{
  "nbformat": 4,
  "nbformat_minor": 0,
  "metadata": {
    "colab": {
      "name": "analise-de-sentimentos.ipynb",
      "provenance": [],
      "authorship_tag": "ABX9TyMSasUYMxHLKGxv5s75a0zI",
      "include_colab_link": true
    },
    "kernelspec": {
      "name": "python3",
      "display_name": "Python 3"
    },
    "language_info": {
      "name": "python"
    },
    "accelerator": "GPU",
    "gpuClass": "standard"
  },
  "cells": [
    {
      "cell_type": "markdown",
      "metadata": {
        "id": "view-in-github",
        "colab_type": "text"
      },
      "source": [
        "<a href=\"https://colab.research.google.com/github/augustoberwaldt/analise-de-sentimento/blob/main/analise_de_sentimentos.ipynb\" target=\"_parent\"><img src=\"https://colab.research.google.com/assets/colab-badge.svg\" alt=\"Open In Colab\"/></a>"
      ]
    },
    {
      "cell_type": "code",
      "source": [
        "!/usr/local/cuda/bin/nvcc --version\n",
        "!nvidia-smi"
      ],
      "metadata": {
        "colab": {
          "base_uri": "https://localhost:8080/"
        },
        "id": "Md_IF6KcrDT7",
        "outputId": "976bfcd9-ff1e-422c-9437-d96c0ae4e3e2"
      },
      "execution_count": 1,
      "outputs": [
        {
          "output_type": "stream",
          "name": "stdout",
          "text": [
            "nvcc: NVIDIA (R) Cuda compiler driver\n",
            "Copyright (c) 2005-2020 NVIDIA Corporation\n",
            "Built on Mon_Oct_12_20:09:46_PDT_2020\n",
            "Cuda compilation tools, release 11.1, V11.1.105\n",
            "Build cuda_11.1.TC455_06.29190527_0\n",
            "Wed Aug 24 02:31:36 2022       \n",
            "+-----------------------------------------------------------------------------+\n",
            "| NVIDIA-SMI 460.32.03    Driver Version: 460.32.03    CUDA Version: 11.2     |\n",
            "|-------------------------------+----------------------+----------------------+\n",
            "| GPU  Name        Persistence-M| Bus-Id        Disp.A | Volatile Uncorr. ECC |\n",
            "| Fan  Temp  Perf  Pwr:Usage/Cap|         Memory-Usage | GPU-Util  Compute M. |\n",
            "|                               |                      |               MIG M. |\n",
            "|===============================+======================+======================|\n",
            "|   0  Tesla T4            Off  | 00000000:00:04.0 Off |                    0 |\n",
            "| N/A   64C    P8    11W /  70W |      0MiB / 15109MiB |      0%      Default |\n",
            "|                               |                      |                  N/A |\n",
            "+-------------------------------+----------------------+----------------------+\n",
            "                                                                               \n",
            "+-----------------------------------------------------------------------------+\n",
            "| Processes:                                                                  |\n",
            "|  GPU   GI   CI        PID   Type   Process name                  GPU Memory |\n",
            "|        ID   ID                                                   Usage      |\n",
            "|=============================================================================|\n",
            "|  No running processes found                                                 |\n",
            "+-----------------------------------------------------------------------------+\n"
          ]
        }
      ]
    },
    {
      "cell_type": "code",
      "execution_count": 2,
      "metadata": {
        "colab": {
          "base_uri": "https://localhost:8080/"
        },
        "id": "cOcuE7S5l6gp",
        "outputId": "d798b0ec-99a2-4076-8f99-8cb914392080"
      },
      "outputs": [
        {
          "output_type": "stream",
          "name": "stdout",
          "text": [
            "Looking in indexes: https://pypi.org/simple, https://us-python.pkg.dev/colab-wheels/public/simple/\n",
            "Collecting google_play_scraper\n",
            "  Downloading google_play_scraper-1.2.2-py3-none-any.whl (28 kB)\n",
            "Installing collected packages: google-play-scraper\n",
            "Successfully installed google-play-scraper-1.2.2\n"
          ]
        }
      ],
      "source": [
        "!pip install google_play_scraper"
      ]
    },
    {
      "cell_type": "code",
      "source": [
        "import json\n",
        "import pandas as pd\n",
        "from tqdm import tqdm\n",
        "\n",
        "import seaborn as sns\n",
        "import matplotlib.pyplot as plt\n",
        "\n",
        "from pygments import highlight\n",
        "from pygments.lexers import JsonLexer\n",
        "from pygments.formatters import TerminalFormatter\n",
        "\n",
        "from google_play_scraper import Sort, reviews, app\n",
        "\n",
        "%matplotlib inline\n",
        "%config InlineBackend.figure_format='retina'\n",
        "\n",
        "sns.set(style='whitegrid', palette='muted', font_scale=1.2)"
      ],
      "metadata": {
        "id": "p-vk61uOmF43"
      },
      "execution_count": 3,
      "outputs": []
    },
    {
      "cell_type": "markdown",
      "source": [
        "Defina os IDs dos apps a serem analisados e extraia informações básicas sobre cada um deles."
      ],
      "metadata": {
        "id": "CPGaSBs-pCm8"
      }
    },
    {
      "cell_type": "code",
      "source": [
        "apps_ids = ['com.nu.production', 'br.com.intermedium', 'com.c6bank.app', 'br.com.original.bank', 'br.com.bancobmg.bancodigital', 'br.com.bradesco.next']\n",
        "\n",
        "\n",
        "app_infos = []\n",
        "\n",
        "for ap in tqdm(apps_ids):\n",
        "    info = app(ap, lang='en', country='us')\n",
        "    del info['comments']\n",
        "    app_infos.append(info)\n",
        "\n",
        "app_infos_df = pd.DataFrame(app_infos)\n",
        "app_infos_df.head(6)"
      ],
      "metadata": {
        "colab": {
          "base_uri": "https://localhost:8080/",
          "height": 730
        },
        "id": "JKfNZz9CmVrP",
        "outputId": "4a3b6b58-9627-4034-d299-4afd2997c02d"
      },
      "execution_count": 9,
      "outputs": [
        {
          "output_type": "stream",
          "name": "stderr",
          "text": [
            "100%|██████████| 6/6 [00:02<00:00,  2.36it/s]\n"
          ]
        },
        {
          "output_type": "execute_result",
          "data": {
            "text/plain": [
              "                            title  \\\n",
              "0    Nubank: conta, cartão e mais   \n",
              "1  Inter: Cartão de Crédito e Pix   \n",
              "2                         C6 Bank   \n",
              "3  Original Instantâneo e Digital   \n",
              "4  Bmg Conta Digital: Empréstimos   \n",
              "5      Banco next: Conta e Cartão   \n",
              "\n",
              "                                         description  \\\n",
              "0  O Nubank nasceu para acabar com a complexidade...   \n",
              "1  Muito mais que um banco digital. Um Super App ...   \n",
              "2  Abra sua conta grátis no C6 Bank: um banco dig...   \n",
              "3  O Original é fácil de entender e simples de us...   \n",
              "4  <b>Fazer Pix ficou ainda melhor com a conta di...   \n",
              "5  O next é uma plataforma 100% digital, gratuito...   \n",
              "\n",
              "                                     descriptionHTML  \\\n",
              "0  O Nubank nasceu para acabar com a complexidade...   \n",
              "1  Muito mais que um banco digital. Um Super App ...   \n",
              "2  Abra sua conta grátis no C6 Bank: um banco dig...   \n",
              "3  O Original é fácil de entender e simples de us...   \n",
              "4  <b>Fazer Pix ficou ainda melhor com a conta di...   \n",
              "5  O next é uma plataforma 100% digital, gratuito...   \n",
              "\n",
              "                                             summary      installs  \\\n",
              "0  Credit card with no annual fee and digital acc...  100,000,000+   \n",
              "1  Digital Account, Credit Card, Pix, Investments...   10,000,000+   \n",
              "2  Full digital bank with free credit card, digit...   10,000,000+   \n",
              "3  A complete and 100% digital bank. Being Origin...   10,000,000+   \n",
              "4  Bmg just turned 92! Almost a century changing ...   10,000,000+   \n",
              "5  The next is a complete digital account with fr...   10,000,000+   \n",
              "\n",
              "   minInstalls  realInstalls     score  ratings  reviews  ...  \\\n",
              "0    100000000     100316058  4.596354  1932825     1143  ...   \n",
              "1     10000000      38737179  4.755172  1386645      874  ...   \n",
              "2     10000000      30296454  3.570000   473952      408  ...   \n",
              "3     10000000      15091912  4.180000   264340      180  ...   \n",
              "4     10000000      14094431  4.100000   191708      136  ...   \n",
              "5     10000000      27520514  3.710000   388597      443  ...   \n",
              "\n",
              "  contentRatingDescription  adSupported  containsAds      released  \\\n",
              "0                     None        False        False  Apr 25, 2014   \n",
              "1                     None        False        False   May 4, 2016   \n",
              "2                     None        False        False  May 15, 2019   \n",
              "3                     None        False        False  Aug 10, 2015   \n",
              "4                     None        False        False  Mar 19, 2019   \n",
              "5                     None        False        False  Mar 25, 2014   \n",
              "\n",
              "      updated             version  \\\n",
              "0  1660939286  Varies with device   \n",
              "1  1660845182              11.2.5   \n",
              "2  1661204837  Varies with device   \n",
              "3  1660223522              3.20.0   \n",
              "4  1660224833              3.40.3   \n",
              "5  1659577000             30.33.1   \n",
              "\n",
              "                                       recentChanges  \\\n",
              "0  O roxo ficou mais roxo. O simples ficou mais s...   \n",
              "1  Essa nova versão é rapidinha, vapt vupt, pra r...   \n",
              "2  A melhor experiência para sua vida financeira\\...   \n",
              "3  Ser Original faz toda a diferença. Nessa atual...   \n",
              "4                                               None   \n",
              "5  Estamos sempre melhorando nosso app! Nessa atu...   \n",
              "\n",
              "                                   recentChangesHTML  \\\n",
              "0  O roxo ficou mais roxo. O simples ficou mais s...   \n",
              "1  Essa nova versão é rapidinha, vapt vupt, pra r...   \n",
              "2  A melhor experiência para sua vida financeira<...   \n",
              "3  Ser Original faz toda a diferença. Nessa atual...   \n",
              "4                                               None   \n",
              "5  Estamos sempre melhorando nosso app! Nessa atu...   \n",
              "\n",
              "                          appId  \\\n",
              "0             com.nu.production   \n",
              "1            br.com.intermedium   \n",
              "2                com.c6bank.app   \n",
              "3          br.com.original.bank   \n",
              "4  br.com.bancobmg.bancodigital   \n",
              "5          br.com.bradesco.next   \n",
              "\n",
              "                                                 url  \n",
              "0  https://play.google.com/store/apps/details?id=...  \n",
              "1  https://play.google.com/store/apps/details?id=...  \n",
              "2  https://play.google.com/store/apps/details?id=...  \n",
              "3  https://play.google.com/store/apps/details?id=...  \n",
              "4  https://play.google.com/store/apps/details?id=...  \n",
              "5  https://play.google.com/store/apps/details?id=...  \n",
              "\n",
              "[6 rows x 44 columns]"
            ],
            "text/html": [
              "\n",
              "  <div id=\"df-b15029b4-2eb9-4473-897e-e59288485d51\">\n",
              "    <div class=\"colab-df-container\">\n",
              "      <div>\n",
              "<style scoped>\n",
              "    .dataframe tbody tr th:only-of-type {\n",
              "        vertical-align: middle;\n",
              "    }\n",
              "\n",
              "    .dataframe tbody tr th {\n",
              "        vertical-align: top;\n",
              "    }\n",
              "\n",
              "    .dataframe thead th {\n",
              "        text-align: right;\n",
              "    }\n",
              "</style>\n",
              "<table border=\"1\" class=\"dataframe\">\n",
              "  <thead>\n",
              "    <tr style=\"text-align: right;\">\n",
              "      <th></th>\n",
              "      <th>title</th>\n",
              "      <th>description</th>\n",
              "      <th>descriptionHTML</th>\n",
              "      <th>summary</th>\n",
              "      <th>installs</th>\n",
              "      <th>minInstalls</th>\n",
              "      <th>realInstalls</th>\n",
              "      <th>score</th>\n",
              "      <th>ratings</th>\n",
              "      <th>reviews</th>\n",
              "      <th>...</th>\n",
              "      <th>contentRatingDescription</th>\n",
              "      <th>adSupported</th>\n",
              "      <th>containsAds</th>\n",
              "      <th>released</th>\n",
              "      <th>updated</th>\n",
              "      <th>version</th>\n",
              "      <th>recentChanges</th>\n",
              "      <th>recentChangesHTML</th>\n",
              "      <th>appId</th>\n",
              "      <th>url</th>\n",
              "    </tr>\n",
              "  </thead>\n",
              "  <tbody>\n",
              "    <tr>\n",
              "      <th>0</th>\n",
              "      <td>Nubank: conta, cartão e mais</td>\n",
              "      <td>O Nubank nasceu para acabar com a complexidade...</td>\n",
              "      <td>O Nubank nasceu para acabar com a complexidade...</td>\n",
              "      <td>Credit card with no annual fee and digital acc...</td>\n",
              "      <td>100,000,000+</td>\n",
              "      <td>100000000</td>\n",
              "      <td>100316058</td>\n",
              "      <td>4.596354</td>\n",
              "      <td>1932825</td>\n",
              "      <td>1143</td>\n",
              "      <td>...</td>\n",
              "      <td>None</td>\n",
              "      <td>False</td>\n",
              "      <td>False</td>\n",
              "      <td>Apr 25, 2014</td>\n",
              "      <td>1660939286</td>\n",
              "      <td>Varies with device</td>\n",
              "      <td>O roxo ficou mais roxo. O simples ficou mais s...</td>\n",
              "      <td>O roxo ficou mais roxo. O simples ficou mais s...</td>\n",
              "      <td>com.nu.production</td>\n",
              "      <td>https://play.google.com/store/apps/details?id=...</td>\n",
              "    </tr>\n",
              "    <tr>\n",
              "      <th>1</th>\n",
              "      <td>Inter: Cartão de Crédito e Pix</td>\n",
              "      <td>Muito mais que um banco digital. Um Super App ...</td>\n",
              "      <td>Muito mais que um banco digital. Um Super App ...</td>\n",
              "      <td>Digital Account, Credit Card, Pix, Investments...</td>\n",
              "      <td>10,000,000+</td>\n",
              "      <td>10000000</td>\n",
              "      <td>38737179</td>\n",
              "      <td>4.755172</td>\n",
              "      <td>1386645</td>\n",
              "      <td>874</td>\n",
              "      <td>...</td>\n",
              "      <td>None</td>\n",
              "      <td>False</td>\n",
              "      <td>False</td>\n",
              "      <td>May 4, 2016</td>\n",
              "      <td>1660845182</td>\n",
              "      <td>11.2.5</td>\n",
              "      <td>Essa nova versão é rapidinha, vapt vupt, pra r...</td>\n",
              "      <td>Essa nova versão é rapidinha, vapt vupt, pra r...</td>\n",
              "      <td>br.com.intermedium</td>\n",
              "      <td>https://play.google.com/store/apps/details?id=...</td>\n",
              "    </tr>\n",
              "    <tr>\n",
              "      <th>2</th>\n",
              "      <td>C6 Bank</td>\n",
              "      <td>Abra sua conta grátis no C6 Bank: um banco dig...</td>\n",
              "      <td>Abra sua conta grátis no C6 Bank: um banco dig...</td>\n",
              "      <td>Full digital bank with free credit card, digit...</td>\n",
              "      <td>10,000,000+</td>\n",
              "      <td>10000000</td>\n",
              "      <td>30296454</td>\n",
              "      <td>3.570000</td>\n",
              "      <td>473952</td>\n",
              "      <td>408</td>\n",
              "      <td>...</td>\n",
              "      <td>None</td>\n",
              "      <td>False</td>\n",
              "      <td>False</td>\n",
              "      <td>May 15, 2019</td>\n",
              "      <td>1661204837</td>\n",
              "      <td>Varies with device</td>\n",
              "      <td>A melhor experiência para sua vida financeira\\...</td>\n",
              "      <td>A melhor experiência para sua vida financeira&lt;...</td>\n",
              "      <td>com.c6bank.app</td>\n",
              "      <td>https://play.google.com/store/apps/details?id=...</td>\n",
              "    </tr>\n",
              "    <tr>\n",
              "      <th>3</th>\n",
              "      <td>Original Instantâneo e Digital</td>\n",
              "      <td>O Original é fácil de entender e simples de us...</td>\n",
              "      <td>O Original é fácil de entender e simples de us...</td>\n",
              "      <td>A complete and 100% digital bank. Being Origin...</td>\n",
              "      <td>10,000,000+</td>\n",
              "      <td>10000000</td>\n",
              "      <td>15091912</td>\n",
              "      <td>4.180000</td>\n",
              "      <td>264340</td>\n",
              "      <td>180</td>\n",
              "      <td>...</td>\n",
              "      <td>None</td>\n",
              "      <td>False</td>\n",
              "      <td>False</td>\n",
              "      <td>Aug 10, 2015</td>\n",
              "      <td>1660223522</td>\n",
              "      <td>3.20.0</td>\n",
              "      <td>Ser Original faz toda a diferença. Nessa atual...</td>\n",
              "      <td>Ser Original faz toda a diferença. Nessa atual...</td>\n",
              "      <td>br.com.original.bank</td>\n",
              "      <td>https://play.google.com/store/apps/details?id=...</td>\n",
              "    </tr>\n",
              "    <tr>\n",
              "      <th>4</th>\n",
              "      <td>Bmg Conta Digital: Empréstimos</td>\n",
              "      <td>&lt;b&gt;Fazer Pix ficou ainda melhor com a conta di...</td>\n",
              "      <td>&lt;b&gt;Fazer Pix ficou ainda melhor com a conta di...</td>\n",
              "      <td>Bmg just turned 92! Almost a century changing ...</td>\n",
              "      <td>10,000,000+</td>\n",
              "      <td>10000000</td>\n",
              "      <td>14094431</td>\n",
              "      <td>4.100000</td>\n",
              "      <td>191708</td>\n",
              "      <td>136</td>\n",
              "      <td>...</td>\n",
              "      <td>None</td>\n",
              "      <td>False</td>\n",
              "      <td>False</td>\n",
              "      <td>Mar 19, 2019</td>\n",
              "      <td>1660224833</td>\n",
              "      <td>3.40.3</td>\n",
              "      <td>None</td>\n",
              "      <td>None</td>\n",
              "      <td>br.com.bancobmg.bancodigital</td>\n",
              "      <td>https://play.google.com/store/apps/details?id=...</td>\n",
              "    </tr>\n",
              "    <tr>\n",
              "      <th>5</th>\n",
              "      <td>Banco next: Conta e Cartão</td>\n",
              "      <td>O next é uma plataforma 100% digital, gratuito...</td>\n",
              "      <td>O next é uma plataforma 100% digital, gratuito...</td>\n",
              "      <td>The next is a complete digital account with fr...</td>\n",
              "      <td>10,000,000+</td>\n",
              "      <td>10000000</td>\n",
              "      <td>27520514</td>\n",
              "      <td>3.710000</td>\n",
              "      <td>388597</td>\n",
              "      <td>443</td>\n",
              "      <td>...</td>\n",
              "      <td>None</td>\n",
              "      <td>False</td>\n",
              "      <td>False</td>\n",
              "      <td>Mar 25, 2014</td>\n",
              "      <td>1659577000</td>\n",
              "      <td>30.33.1</td>\n",
              "      <td>Estamos sempre melhorando nosso app! Nessa atu...</td>\n",
              "      <td>Estamos sempre melhorando nosso app! Nessa atu...</td>\n",
              "      <td>br.com.bradesco.next</td>\n",
              "      <td>https://play.google.com/store/apps/details?id=...</td>\n",
              "    </tr>\n",
              "  </tbody>\n",
              "</table>\n",
              "<p>6 rows × 44 columns</p>\n",
              "</div>\n",
              "      <button class=\"colab-df-convert\" onclick=\"convertToInteractive('df-b15029b4-2eb9-4473-897e-e59288485d51')\"\n",
              "              title=\"Convert this dataframe to an interactive table.\"\n",
              "              style=\"display:none;\">\n",
              "        \n",
              "  <svg xmlns=\"http://www.w3.org/2000/svg\" height=\"24px\"viewBox=\"0 0 24 24\"\n",
              "       width=\"24px\">\n",
              "    <path d=\"M0 0h24v24H0V0z\" fill=\"none\"/>\n",
              "    <path d=\"M18.56 5.44l.94 2.06.94-2.06 2.06-.94-2.06-.94-.94-2.06-.94 2.06-2.06.94zm-11 1L8.5 8.5l.94-2.06 2.06-.94-2.06-.94L8.5 2.5l-.94 2.06-2.06.94zm10 10l.94 2.06.94-2.06 2.06-.94-2.06-.94-.94-2.06-.94 2.06-2.06.94z\"/><path d=\"M17.41 7.96l-1.37-1.37c-.4-.4-.92-.59-1.43-.59-.52 0-1.04.2-1.43.59L10.3 9.45l-7.72 7.72c-.78.78-.78 2.05 0 2.83L4 21.41c.39.39.9.59 1.41.59.51 0 1.02-.2 1.41-.59l7.78-7.78 2.81-2.81c.8-.78.8-2.07 0-2.86zM5.41 20L4 18.59l7.72-7.72 1.47 1.35L5.41 20z\"/>\n",
              "  </svg>\n",
              "      </button>\n",
              "      \n",
              "  <style>\n",
              "    .colab-df-container {\n",
              "      display:flex;\n",
              "      flex-wrap:wrap;\n",
              "      gap: 12px;\n",
              "    }\n",
              "\n",
              "    .colab-df-convert {\n",
              "      background-color: #E8F0FE;\n",
              "      border: none;\n",
              "      border-radius: 50%;\n",
              "      cursor: pointer;\n",
              "      display: none;\n",
              "      fill: #1967D2;\n",
              "      height: 32px;\n",
              "      padding: 0 0 0 0;\n",
              "      width: 32px;\n",
              "    }\n",
              "\n",
              "    .colab-df-convert:hover {\n",
              "      background-color: #E2EBFA;\n",
              "      box-shadow: 0px 1px 2px rgba(60, 64, 67, 0.3), 0px 1px 3px 1px rgba(60, 64, 67, 0.15);\n",
              "      fill: #174EA6;\n",
              "    }\n",
              "\n",
              "    [theme=dark] .colab-df-convert {\n",
              "      background-color: #3B4455;\n",
              "      fill: #D2E3FC;\n",
              "    }\n",
              "\n",
              "    [theme=dark] .colab-df-convert:hover {\n",
              "      background-color: #434B5C;\n",
              "      box-shadow: 0px 1px 3px 1px rgba(0, 0, 0, 0.15);\n",
              "      filter: drop-shadow(0px 1px 2px rgba(0, 0, 0, 0.3));\n",
              "      fill: #FFFFFF;\n",
              "    }\n",
              "  </style>\n",
              "\n",
              "      <script>\n",
              "        const buttonEl =\n",
              "          document.querySelector('#df-b15029b4-2eb9-4473-897e-e59288485d51 button.colab-df-convert');\n",
              "        buttonEl.style.display =\n",
              "          google.colab.kernel.accessAllowed ? 'block' : 'none';\n",
              "\n",
              "        async function convertToInteractive(key) {\n",
              "          const element = document.querySelector('#df-b15029b4-2eb9-4473-897e-e59288485d51');\n",
              "          const dataTable =\n",
              "            await google.colab.kernel.invokeFunction('convertToInteractive',\n",
              "                                                     [key], {});\n",
              "          if (!dataTable) return;\n",
              "\n",
              "          const docLinkHtml = 'Like what you see? Visit the ' +\n",
              "            '<a target=\"_blank\" href=https://colab.research.google.com/notebooks/data_table.ipynb>data table notebook</a>'\n",
              "            + ' to learn more about interactive tables.';\n",
              "          element.innerHTML = '';\n",
              "          dataTable['output_type'] = 'display_data';\n",
              "          await google.colab.output.renderOutput(dataTable, element);\n",
              "          const docLink = document.createElement('div');\n",
              "          docLink.innerHTML = docLinkHtml;\n",
              "          element.appendChild(docLink);\n",
              "        }\n",
              "      </script>\n",
              "    </div>\n",
              "  </div>\n",
              "  "
            ]
          },
          "metadata": {},
          "execution_count": 9
        }
      ]
    },
    {
      "cell_type": "code",
      "source": [
        "app_reviews = []\n",
        "\n",
        "for ap in tqdm(apps_ids):\n",
        "    for score in list(range(1, 6)):\n",
        "        for sort_order in [Sort.MOST_RELEVANT, Sort.NEWEST]:\n",
        "            rvs, _ = reviews(\n",
        "                ap,\n",
        "                lang='pt',\n",
        "                country='br',\n",
        "                sort=sort_order,\n",
        "                count= 400 if score == 3 else 200,\n",
        "                filter_score_with=score\n",
        "            )\n",
        "            for r in rvs:\n",
        "                r['sortOrder'] = 'most_relevant' if sort_order == Sort.MOST_RELEVANT else 'newest'\n",
        "                r['appId'] = ap\n",
        "            app_reviews.extend(rvs)\n",
        "\n",
        "\n",
        "df = pd.DataFrame(app_reviews)\n",
        "sns.countplot(df.score)\n",
        "plt.xlabel('review score');"
      ],
      "metadata": {
        "colab": {
          "base_uri": "https://localhost:8080/",
          "height": 364
        },
        "id": "A6iJMLpUpEqT",
        "outputId": "a8aa2c92-66ff-4253-d3fc-9c54577031c0"
      },
      "execution_count": 10,
      "outputs": [
        {
          "output_type": "stream",
          "name": "stderr",
          "text": [
            "100%|██████████| 6/6 [00:24<00:00,  4.14s/it]\n",
            "/usr/local/lib/python3.7/dist-packages/seaborn/_decorators.py:43: FutureWarning: Pass the following variable as a keyword arg: x. From version 0.12, the only valid positional argument will be `data`, and passing other arguments without an explicit keyword will result in an error or misinterpretation.\n",
            "  FutureWarning\n"
          ]
        },
        {
          "output_type": "display_data",
          "data": {
            "text/plain": [
              "<Figure size 432x288 with 1 Axes>"
            ],
            "image/png": "[encoded data removed]"
          },
          "metadata": {
            "image/png": {
              "width": 410,
              "height": 275
            }
          }
        }
      ]
    },
    {
      "cell_type": "code",
      "source": [
        "def to_sentiment(rating):\n",
        "  rating = int(rating)\n",
        "  if rating <= 2:\n",
        "    return 0\n",
        "  elif rating == 3:\n",
        "    return 1\n",
        "  else: \n",
        "    return 2\n",
        "\n",
        "df['sentiment'] = df.score.apply(to_sentiment)"
      ],
      "metadata": {
        "id": "bZkGJqguqkYD"
      },
      "execution_count": 11,
      "outputs": []
    },
    {
      "cell_type": "code",
      "source": [
        "class_names = ['negative', 'neutral', 'positive']"
      ],
      "metadata": {
        "id": "IzGvbrjiqqK8"
      },
      "execution_count": 12,
      "outputs": []
    },
    {
      "cell_type": "code",
      "source": [
        "ax = sns.countplot(df.sentiment)\n",
        "plt.xlabel('review sentiment')\n",
        "ax.set_xticklabels(class_names);"
      ],
      "metadata": {
        "colab": {
          "base_uri": "https://localhost:8080/",
          "height": 347
        },
        "id": "z9kmpbgfqtfK",
        "outputId": "ad9936df-6644-4447-d37a-f368d8887bb3"
      },
      "execution_count": 13,
      "outputs": [
        {
          "output_type": "stream",
          "name": "stderr",
          "text": [
            "/usr/local/lib/python3.7/dist-packages/seaborn/_decorators.py:43: FutureWarning: Pass the following variable as a keyword arg: x. From version 0.12, the only valid positional argument will be `data`, and passing other arguments without an explicit keyword will result in an error or misinterpretation.\n",
            "  FutureWarning\n"
          ]
        },
        {
          "output_type": "display_data",
          "data": {
            "text/plain": [
              "<Figure size 432x288 with 1 Axes>"
            ],
            "image/png": "[encoded data removed]"
          },
          "metadata": {
            "image/png": {
              "width": 410,
              "height": 275
            }
          }
        }
      ]
    },
    {
      "cell_type": "code",
      "source": [
        "\n",
        "from google.colab import  drive\n",
        "df.to_csv('reviews.csv', index=None, header=True)"
      ],
      "metadata": {
        "id": "pp2NvC68q1yA"
      },
      "execution_count": 14,
      "outputs": []
    }
  ]
}